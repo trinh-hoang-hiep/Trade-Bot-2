{
 "cells": [
  {
   "cell_type": "code",
   "execution_count": 1,
   "metadata": {},
   "outputs": [],
   "source": [
    "import os\n",
    "import time\n",
    "import collections"
   ]
  },
  {
   "cell_type": "code",
   "execution_count": 2,
   "metadata": {},
   "outputs": [],
   "source": [
    "import torch\n",
    "import torch.nn as nn\n",
    "import torch.nn.functional as F\n",
    "\n",
    "import numpy as np\n",
    "import pandas as pd\n",
    "import matplotlib.pyplot as plt\n",
    "from IPython.display import clear_output"
   ]
  },
  {
   "cell_type": "code",
   "execution_count": 3,
   "metadata": {},
   "outputs": [],
   "source": [
    "from utils.utilities import fetch_data, live_plot\n",
    "from utils.td3 import Agent\n",
    "from utils.envs import TradingEnv1, TradingEnv4, TradingEnv5, TradingEnv6, TradingEnv7, TradingEnv9"
   ]
  },
  {
   "cell_type": "code",
   "execution_count": 4,
   "metadata": {},
   "outputs": [],
   "source": [
    "import warnings\n",
    "\n",
    "warnings.simplefilter('ignore')"
   ]
  },
  {
   "cell_type": "code",
   "execution_count": 5,
   "metadata": {},
   "outputs": [],
   "source": [
    "%matplotlib inline"
   ]
  },
  {
   "cell_type": "markdown",
   "metadata": {},
   "source": [
    "---"
   ]
  },
  {
   "cell_type": "code",
   "execution_count": 6,
   "metadata": {},
   "outputs": [],
   "source": [
    "env_name = 'TradingEnv9'\n",
    "db_name = './data/HistoricalPriceData.db'\n",
    "\n",
    "seed = 42"
   ]
  },
  {
   "cell_type": "code",
   "execution_count": 7,
   "metadata": {},
   "outputs": [],
   "source": [
    "torch.manual_seed(seed)\n",
    "np.random.seed(seed)"
   ]
  },
  {
   "cell_type": "markdown",
   "metadata": {
    "id": "snfGHM_8rAnv"
   },
   "source": [
    "##### Fetch the data"
   ]
  },
  {
   "cell_type": "code",
   "execution_count": 8,
   "metadata": {},
   "outputs": [],
   "source": [
    "data = fetch_data(db_name)"
   ]
  },
  {
   "cell_type": "code",
   "execution_count": 9,
   "metadata": {},
   "outputs": [],
   "source": [
    "# Don't include 2020 shock\n",
    "for tick in data:\n",
    "    data[tick] = data[tick][\n",
    "        data[tick]['date'] <= pd.to_datetime('2020-02-01')\n",
    "    ]"
   ]
  },
  {
   "cell_type": "code",
   "execution_count": 10,
   "metadata": {},
   "outputs": [],
   "source": [
    "size = 520 # About two years\n",
    "idx = np.random.randint(0, len(data['fb'])-size)\n",
    "\n",
    "for t in data:\n",
    "    data[t] = data[t].iloc[idx: idx+size]\n",
    "    data[t].reset_index(drop=True, inplace=True)"
   ]
  },
  {
   "cell_type": "code",
   "execution_count": 11,
   "metadata": {},
   "outputs": [
    {
     "name": "stdout",
     "output_type": "stream",
     "text": [
      "1126\n"
     ]
    }
   ],
   "source": [
    "print(idx)"
   ]
  },
  {
   "cell_type": "markdown",
   "metadata": {
    "id": "snfGHM_8rAnv"
   },
   "source": [
    "##### Initialize environment and set seeds"
   ]
  },
  {
   "cell_type": "code",
   "execution_count": 12,
   "metadata": {
    "colab": {
     "base_uri": "https://localhost:8080/"
    },
    "id": "S-xn7OWBrPP8",
    "outputId": "ac94c862-ca63-4ff6-c338-f4f65a4c91b2"
   },
   "outputs": [],
   "source": [
    "env = eval(f'{env_name}(data)')\n",
    "env.seed(seed)"
   ]
  },
  {
   "cell_type": "code",
   "execution_count": 13,
   "metadata": {},
   "outputs": [],
   "source": [
    "state_dim = np.prod(env.observation_space.shape)\n",
    "action_dim = env.action_space.shape[0]\n",
    "max_action = float(env.action_space.high[0])"
   ]
  },
  {
   "cell_type": "markdown",
   "metadata": {
    "id": "zg1ISVQGqObn"
   },
   "source": [
    "##### Create folder in which trained models will be saved"
   ]
  },
  {
   "cell_type": "code",
   "execution_count": 14,
   "metadata": {
    "id": "ZOSuBYdsqVMX"
   },
   "outputs": [],
   "source": [
    "if not os.path.exists('./models'):\n",
    "    os.makedirs('./models')\n",
    "if not os.path.exists('./models/all_td3'):\n",
    "    os.makedirs('./models/all_td3')"
   ]
  },
  {
   "cell_type": "code",
   "execution_count": 15,
   "metadata": {
    "colab": {
     "base_uri": "https://localhost:8080/"
    },
    "id": "OAs1OaNYp5ht",
    "outputId": "d22ab539-f287-4856-c7a9-f627db21d77d"
   },
   "outputs": [
    {
     "name": "stdout",
     "output_type": "stream",
     "text": [
      "TD3_TradingEnv9_pred_42\n"
     ]
    }
   ],
   "source": [
    "file_name = f'TD3_{env_name}_pred_{seed}'\n",
    "print(file_name)"
   ]
  },
  {
   "cell_type": "markdown",
   "metadata": {},
   "source": [
    "##### Initialize agent parameters"
   ]
  },
  {
   "cell_type": "code",
   "execution_count": 16,
   "metadata": {},
   "outputs": [],
   "source": [
    "buffer_size = 1e6\n",
    "batch_size = 100\n",
    "\n",
    "gamma = 0.99\n",
    "tau = 5e-3\n",
    "policy_freq = 2\n",
    "lr = 1e-3\n",
    "\n",
    "policy_noise = 0.2\n",
    "noise_clip = 0.5\n",
    "expl_noise = 0.15"
   ]
  },
  {
   "cell_type": "markdown",
   "metadata": {},
   "source": [
    "##### Initialize agent"
   ]
  },
  {
   "cell_type": "code",
   "execution_count": 18,
   "metadata": {},
   "outputs": [],
   "source": [
    "agent_state_dim = env.observation_space.shape[0] * (env.observation_space.shape[1]+1)"
   ]
  },
  {
   "cell_type": "code",
   "execution_count": 19,
   "metadata": {
    "colab": {
     "base_uri": "https://localhost:8080/"
    },
    "id": "zaaTcOGKsLyh",
    "outputId": "53a75b83-e251-496b-c21e-64c7d45fd8f0"
   },
   "outputs": [],
   "source": [
    "agent = Agent(\n",
    "    agent_state_dim, \n",
    "    action_dim, \n",
    "    max_action,\n",
    "    eta=lr,\n",
    ")\n"
   ]
  },
  {
   "cell_type": "markdown",
   "metadata": {},
   "source": [
    "---"
   ]
  },
  {
   "cell_type": "markdown",
   "metadata": {},
   "source": [
    "##### Build predictor model"
   ]
  },
  {
   "cell_type": "code",
   "execution_count": 20,
   "metadata": {},
   "outputs": [],
   "source": [
    "class Model(nn.Module):\n",
    "    \n",
    "    def __init__(self, input_dim, output_dim):\n",
    "        \n",
    "        super(Model, self).__init__()\n",
    "        \n",
    "        h1, h2 = 200, 100\n",
    "        \n",
    "        self.layer_1 = nn.Linear(input_dim, h1) \n",
    "        self.layer_2 = nn.Linear(h1, h2) \n",
    "        self.layer_3 = nn.Linear(h2, output_dim)\n",
    "        \n",
    "    def forward(self, X):\n",
    "        \n",
    "        X = F.relu(self.layer_1(X))\n",
    "        X = F.relu(self.layer_2(X))\n",
    "        X = self.layer_3(X)\n",
    "        \n",
    "        return X\n",
    "        "
   ]
  },
  {
   "cell_type": "code",
   "execution_count": 21,
   "metadata": {},
   "outputs": [],
   "source": [
    "class Predictor:\n",
    "    \n",
    "    def __init__(self, input_dim, output_dim, eta=0.01):\n",
    "                \n",
    "        self.model = Model(input_dim, output_dim)\n",
    "        self.optimizer = torch.optim.Adam(self.model.parameters(), lr=eta)\n",
    "        \n",
    "        self.X_full = []\n",
    "        self.y_full = []\n",
    "    \n",
    "    def commit(self, X, y):\n",
    "        \n",
    "        self.X_full.append(X)\n",
    "        self.y_full.append(y)\n",
    "\n",
    "    def train(self, epochs=10, batch_size=100):\n",
    "        \n",
    "        idx = np.random.randint(0, len(self.X_full), size=batch_size)\n",
    "        \n",
    "        X, y = [], []\n",
    "        for i in idx:\n",
    "            X.append(self.X_full[i][:-1, :-2].flatten().copy())\n",
    "            y.append(self.y_full[i][:-1, 5].copy())\n",
    "\n",
    "        X = torch.stack([torch.FloatTensor(x_) for x_ in X])\n",
    "        y = torch.stack([torch.FloatTensor(y_) for y_ in y])\n",
    "            \n",
    "        for i in np.arange(epochs):\n",
    "            \n",
    "            loss = F.mse_loss(self.model(X), y)\n",
    "            self.optimizer.zero_grad()\n",
    "            loss.backward()\n",
    "            self.optimizer.step()\n",
    "            \n",
    "        return self\n",
    "            \n",
    "    def predict_many(self, X):\n",
    "        \n",
    "        X_new = []\n",
    "        \n",
    "        for x in X:\n",
    "            \n",
    "            _x = torch.FloatTensor(\n",
    "                x[:-1, :-2].flatten().copy()\n",
    "            )\n",
    "            \n",
    "            y = self.model(_x)\n",
    "            _y = np.c_[x, [*y.data, 0]]\n",
    "            \n",
    "            X_new.append(_y)\n",
    "            \n",
    "        return np.array(X_new)\n",
    "    \n",
    "    def predict(self, X):\n",
    "        \n",
    "        _X = torch.FloatTensor(\n",
    "            X[:-1, :-2].flatten().copy()\n",
    "        )\n",
    "\n",
    "        y = self.model(_X)\n",
    "\n",
    "        return np.c_[X, [*y.data, 0]].astype(np.float64)\n"
   ]
  },
  {
   "cell_type": "code",
   "execution_count": 22,
   "metadata": {},
   "outputs": [],
   "source": [
    "features = ['close', 'volume', 'ma_30', 'ma_5', 'volatil', 'diff', 'diff_ma_5', 'exp', 'pps']"
   ]
  },
  {
   "cell_type": "code",
   "execution_count": 23,
   "metadata": {},
   "outputs": [],
   "source": [
    "input_dim = 35 # obs[:-1, :-2].flatten()\n",
    "output_dim = 5 # new_obs[:-1, 5]"
   ]
  },
  {
   "cell_type": "code",
   "execution_count": 24,
   "metadata": {},
   "outputs": [],
   "source": [
    "predictor = Predictor(input_dim, output_dim)"
   ]
  },
  {
   "cell_type": "markdown",
   "metadata": {},
   "source": [
    "---"
   ]
  },
  {
   "cell_type": "markdown",
   "metadata": {
    "id": "VXNQHlxItDHz"
   },
   "source": [
    "##### Initialize training variables "
   ]
  },
  {
   "cell_type": "code",
   "execution_count": 25,
   "metadata": {},
   "outputs": [],
   "source": [
    "#agent.load(file_name, './models')"
   ]
  },
  {
   "cell_type": "code",
   "execution_count": 26,
   "metadata": {},
   "outputs": [],
   "source": [
    "starting_step = 3e4 # Number of random steps at start\n",
    "\n",
    "episodes = 1e3 # Number of episodes to train on\n",
    "total_steps = 0\n",
    "training = False\n",
    "report = 50"
   ]
  },
  {
   "cell_type": "code",
   "execution_count": 27,
   "metadata": {},
   "outputs": [
    {
     "name": "stdout",
     "output_type": "stream",
     "text": [
      "('fb', 'amzn', 'aapl', 'msft', 'goog', '_out')\n"
     ]
    }
   ],
   "source": [
    "positions = env.positions\n",
    "print(positions)"
   ]
  },
  {
   "cell_type": "code",
   "execution_count": 28,
   "metadata": {},
   "outputs": [],
   "source": [
    "reward_trace = collections.defaultdict(list)"
   ]
  },
  {
   "cell_type": "markdown",
   "metadata": {},
   "source": [
    "##### Training:"
   ]
  },
  {
   "cell_type": "code",
   "execution_count": null,
   "metadata": {},
   "outputs": [
    {
     "data": {
      "image/png": "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